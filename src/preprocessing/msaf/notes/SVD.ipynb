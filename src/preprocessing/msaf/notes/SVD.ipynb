{
 "metadata": {
  "name": ""
 },
 "nbformat": 3,
 "nbformat_minor": 0,
 "worksheets": [
  {
   "cells": [
    {
     "cell_type": "markdown",
     "metadata": {},
     "source": [
      "Singular Value Decomposition\n",
      "============================\n",
      "\n",
      "Definition:\n",
      "\n",
      "$$\n",
      "R = U \\Sigma V^T\n",
      "$$\n",
      "\n",
      "The singular values ($\\sigma$) are the values found in the diagonal of $\\Sigma$.\n",
      "\n",
      "In [Brian's paper](http://cosmal.ucsd.edu/~bmcfee/papers/icassp2014_segments.pdf), he defines the _latent structural repetition_ features as:\n",
      "\n",
      "$$\n",
      "L = \\frac{U^T R}{\\sigma_1} = \\frac{\\Sigma V^T}{\\sigma_1}\n",
      "$$\n",
      "\n",
      "where $\\sigma_1$ is the most relevant singular value, and the first dimension of $L$ is $d < 2t$, where $2t$ is the first dimension of $R$."
     ]
    },
    {
     "cell_type": "code",
     "collapsed": false,
     "input": [
      "import scipy.linalg\n",
      "X = np.random.random((10,10))"
     ],
     "language": "python",
     "metadata": {},
     "outputs": [],
     "prompt_number": 22
    },
    {
     "cell_type": "code",
     "collapsed": false,
     "input": [
      "U, s, Vh = linalg.svd(X)\n",
      "\n",
      "# X_res == X\n",
      "X_res = np.dot(np.dot(U,s*np.eye(s.shape[0])),Vh)\n",
      "np.testing.assert_allclose(X_res, X)\n",
      "\n",
      "print \"Singular values: \", s"
     ],
     "language": "python",
     "metadata": {},
     "outputs": [
      {
       "output_type": "stream",
       "stream": "stdout",
       "text": [
        "Singular values:  [ 4.97645763  1.4072117   1.19390431  1.06199268  0.91854502  0.68020002\n",
        "  0.47167983  0.43085629  0.23492751  0.07578245]\n"
       ]
      }
     ],
     "prompt_number": 47
    },
    {
     "cell_type": "markdown",
     "metadata": {},
     "source": [
      "Another alternative, which is what Brian ends up doing in his code, is to estimate the eigenvalues of $XX^T$:\n",
      "\n",
      "$$\n",
      "XX^T = UDU^T\n",
      "$$\n",
      "\n",
      "Then D has the eigenvalues, which are the square of the singular values."
     ]
    },
    {
     "cell_type": "code",
     "collapsed": false,
     "input": [
      "e_vals, e_vecs = scipy.linalg.eig(np.dot(X,X.T))\n",
      "\n",
      "# XX_res == XX^T\n",
      "XX_res = np.dot(np.dot(e_vecs, e_vals*np.eye(e_vals.shape[0])), e_vecs.T)\n",
      "np.testing.assert_allclose(XX_res, np.dot(X,X.T))\n",
      "\n",
      "# From clomplex to real\n",
      "e_vals = np.maximum(0.0, np.real(e_vals))\n",
      "e_vecs = np.real(e_vecs)\n",
      "\n",
      "# Sort\n",
      "idx = np.argsort(e_vals)[::-1]\n",
      "e_vals = e_vals[idx]\n",
      "e_vecs = e_vecs[:, idx]\n",
      "\n",
      "print \"Singular values: \", np.sqrt(e_vals)"
     ],
     "language": "python",
     "metadata": {},
     "outputs": [
      {
       "output_type": "stream",
       "stream": "stdout",
       "text": [
        "Singular values:  [ 4.97645763  1.4072117   1.19390431  1.06199268  0.91854502  0.68020002\n",
        "  0.47167983  0.43085629  0.23492751  0.07578245]\n"
       ]
      }
     ],
     "prompt_number": 49
    },
    {
     "cell_type": "code",
     "collapsed": false,
     "input": [],
     "language": "python",
     "metadata": {},
     "outputs": []
    }
   ],
   "metadata": {}
  }
 ]
}